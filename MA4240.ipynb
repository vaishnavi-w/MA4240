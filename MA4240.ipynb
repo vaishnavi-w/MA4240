{
  "nbformat": 4,
  "nbformat_minor": 0,
  "metadata": {
    "colab": {
      "name": "MA4240.ipynb",
      "provenance": [],
      "collapsed_sections": []
    },
    "kernelspec": {
      "name": "python3",
      "display_name": "Python 3"
    },
    "language_info": {
      "name": "python"
    }
  },
  "cells": [
    {
      "cell_type": "code",
      "execution_count": 1,
      "metadata": {
        "id": "EIJLXO0JGWo3"
      },
      "outputs": [],
      "source": [
        "import pandas as pd\n",
        "import numpy as np"
      ]
    },
    {
      "cell_type": "code",
      "source": [
        "data = pd.read_csv('/content/responses.csv')\n",
        "data = data.drop(data.iloc[228:].index)"
      ],
      "metadata": {
        "id": "3ZsUPpkUGYRJ"
      },
      "execution_count": 2,
      "outputs": []
    },
    {
      "cell_type": "code",
      "source": [
        "\n",
        "data.head()"
      ],
      "metadata": {
        "colab": {
          "base_uri": "https://localhost:8080/",
          "height": 634
        },
        "id": "F--9IGmc66rO",
        "outputId": "a55f53ed-e40a-4152-859b-68bd8340fdbc"
      },
      "execution_count": 3,
      "outputs": [
        {
          "output_type": "execute_result",
          "data": {
            "text/plain": [
              "            Timestamp  Gender Are you in NSO?  \\\n",
              "0  4/20/2022 13:05:26    Male              No   \n",
              "1  4/22/2022 18:31:48  Female              No   \n",
              "2  4/22/2022 21:25:13  Female              No   \n",
              "3  4/20/2022 16:27:43    Male              No   \n",
              "4  4/20/2022 18:58:59  Female              No   \n",
              "\n",
              "              Which sports do you play regularly?  \\\n",
              "0  Others (Chess, Carrom, Billiards, Squash etc.)   \n",
              "1                                      Basketball   \n",
              "2                                    Table Tennis   \n",
              "3                                    Martial Arts   \n",
              "4           Swimming, Athletics (Track and Field)   \n",
              "\n",
              "  How long have you been playing sport?  \\\n",
              "0                             > 5 years   \n",
              "1                             2-5 years   \n",
              "2                             2-5 years   \n",
              "3                             2-5 years   \n",
              "4                              < 1 year   \n",
              "\n",
              "  What are the main reasons for your involvement in sports?  \\\n",
              "0        Fitness, Recreational purpose, To socialize          \n",
              "1           Fitness, I join my friends, To socialize          \n",
              "2                               Recreational purpose          \n",
              "3                                            Fitness          \n",
              "4                      Fitness, Recreational purpose          \n",
              "\n",
              "   How many days a week do you play?  \\\n",
              "0                                  7   \n",
              "1                                  5   \n",
              "2                                  3   \n",
              "3                                  7   \n",
              "4                                  5   \n",
              "\n",
              "  What are the reasons for not playing regularly? Do you watch any sport?  \\\n",
              "0                    No company, I play regularly                      No   \n",
              "1                                I play regularly                     Yes   \n",
              "2                                      No company                      No   \n",
              "3                                I play regularly                      No   \n",
              "4                                I play regularly                     Yes   \n",
              "\n",
              "  Do you play esports? (Valorant, BGMI, Rocket League)  \\\n",
              "0                                                 No     \n",
              "1                                                 No     \n",
              "2                                                 No     \n",
              "3                                                 No     \n",
              "4                                                 No     \n",
              "\n",
              "  Do you prefer esport over traditional sports?  \\\n",
              "0                                           Yes   \n",
              "1                                            No   \n",
              "2                                            No   \n",
              "3                                            No   \n",
              "4                                            No   \n",
              "\n",
              "  To what level of attention you think does the institute/coaches give to the sport(s) you play?  \\\n",
              "0                                     I have no idea                                               \n",
              "1                             About the right amount                                               \n",
              "2                                  There is no coach                                               \n",
              "3                                     I have no idea                                               \n",
              "4                             About the right amount                                               \n",
              "\n",
              "  What do you think about the number of sport events conducted on campus?  \\\n",
              "0                                Somewhat too little                        \n",
              "1                             About the right amount                        \n",
              "2                             About the right amount                        \n",
              "3                                Somewhat too little                        \n",
              "4                             About the right amount                        \n",
              "\n",
              "  How do academics/club participations affect your involvement in sports? Choose the most appropriate reason  \\\n",
              "0                                Exams and deadlines                                                           \n",
              "1                    Internship/project related work                                                           \n",
              "2                    Internship/project related work                                                           \n",
              "3                                             Others                                                           \n",
              "4                                             Others                                                           \n",
              "\n",
              "   How many clubs are you a part of? (other than sports)  \\\n",
              "0                                                  0       \n",
              "1                                                  2       \n",
              "2                                                  0       \n",
              "3                                                  0       \n",
              "4                                                  0       \n",
              "\n",
              "               Email Address Branch Program  Year  \n",
              "0  cs16btech11028@iith.ac.in     CS   BTECH    16  \n",
              "1  ee16resch11014@iith.ac.in     EE   RESCH    16  \n",
              "2  ma16m18p100001@iith.ac.in     MA   MTECH    16  \n",
              "3  MS17RESCH11003@IITH.AC.IN     MS   RESCH    17  \n",
              "4  bo17resch01001@iith.ac.in     BO   RESCH    17  "
            ],
            "text/html": [
              "\n",
              "  <div id=\"df-cbb8b0d7-7a06-49ba-90cd-8500ca6d0544\">\n",
              "    <div class=\"colab-df-container\">\n",
              "      <div>\n",
              "<style scoped>\n",
              "    .dataframe tbody tr th:only-of-type {\n",
              "        vertical-align: middle;\n",
              "    }\n",
              "\n",
              "    .dataframe tbody tr th {\n",
              "        vertical-align: top;\n",
              "    }\n",
              "\n",
              "    .dataframe thead th {\n",
              "        text-align: right;\n",
              "    }\n",
              "</style>\n",
              "<table border=\"1\" class=\"dataframe\">\n",
              "  <thead>\n",
              "    <tr style=\"text-align: right;\">\n",
              "      <th></th>\n",
              "      <th>Timestamp</th>\n",
              "      <th>Gender</th>\n",
              "      <th>Are you in NSO?</th>\n",
              "      <th>Which sports do you play regularly?</th>\n",
              "      <th>How long have you been playing sport?</th>\n",
              "      <th>What are the main reasons for your involvement in sports?</th>\n",
              "      <th>How many days a week do you play?</th>\n",
              "      <th>What are the reasons for not playing regularly?</th>\n",
              "      <th>Do you watch any sport?</th>\n",
              "      <th>Do you play esports? (Valorant, BGMI, Rocket League)</th>\n",
              "      <th>Do you prefer esport over traditional sports?</th>\n",
              "      <th>To what level of attention you think does the institute/coaches give to the sport(s) you play?</th>\n",
              "      <th>What do you think about the number of sport events conducted on campus?</th>\n",
              "      <th>How do academics/club participations affect your involvement in sports? Choose the most appropriate reason</th>\n",
              "      <th>How many clubs are you a part of? (other than sports)</th>\n",
              "      <th>Email Address</th>\n",
              "      <th>Branch</th>\n",
              "      <th>Program</th>\n",
              "      <th>Year</th>\n",
              "    </tr>\n",
              "  </thead>\n",
              "  <tbody>\n",
              "    <tr>\n",
              "      <th>0</th>\n",
              "      <td>4/20/2022 13:05:26</td>\n",
              "      <td>Male</td>\n",
              "      <td>No</td>\n",
              "      <td>Others (Chess, Carrom, Billiards, Squash etc.)</td>\n",
              "      <td>&gt; 5 years</td>\n",
              "      <td>Fitness, Recreational purpose, To socialize</td>\n",
              "      <td>7</td>\n",
              "      <td>No company, I play regularly</td>\n",
              "      <td>No</td>\n",
              "      <td>No</td>\n",
              "      <td>Yes</td>\n",
              "      <td>I have no idea</td>\n",
              "      <td>Somewhat too little</td>\n",
              "      <td>Exams and deadlines</td>\n",
              "      <td>0</td>\n",
              "      <td>cs16btech11028@iith.ac.in</td>\n",
              "      <td>CS</td>\n",
              "      <td>BTECH</td>\n",
              "      <td>16</td>\n",
              "    </tr>\n",
              "    <tr>\n",
              "      <th>1</th>\n",
              "      <td>4/22/2022 18:31:48</td>\n",
              "      <td>Female</td>\n",
              "      <td>No</td>\n",
              "      <td>Basketball</td>\n",
              "      <td>2-5 years</td>\n",
              "      <td>Fitness, I join my friends, To socialize</td>\n",
              "      <td>5</td>\n",
              "      <td>I play regularly</td>\n",
              "      <td>Yes</td>\n",
              "      <td>No</td>\n",
              "      <td>No</td>\n",
              "      <td>About the right amount</td>\n",
              "      <td>About the right amount</td>\n",
              "      <td>Internship/project related work</td>\n",
              "      <td>2</td>\n",
              "      <td>ee16resch11014@iith.ac.in</td>\n",
              "      <td>EE</td>\n",
              "      <td>RESCH</td>\n",
              "      <td>16</td>\n",
              "    </tr>\n",
              "    <tr>\n",
              "      <th>2</th>\n",
              "      <td>4/22/2022 21:25:13</td>\n",
              "      <td>Female</td>\n",
              "      <td>No</td>\n",
              "      <td>Table Tennis</td>\n",
              "      <td>2-5 years</td>\n",
              "      <td>Recreational purpose</td>\n",
              "      <td>3</td>\n",
              "      <td>No company</td>\n",
              "      <td>No</td>\n",
              "      <td>No</td>\n",
              "      <td>No</td>\n",
              "      <td>There is no coach</td>\n",
              "      <td>About the right amount</td>\n",
              "      <td>Internship/project related work</td>\n",
              "      <td>0</td>\n",
              "      <td>ma16m18p100001@iith.ac.in</td>\n",
              "      <td>MA</td>\n",
              "      <td>MTECH</td>\n",
              "      <td>16</td>\n",
              "    </tr>\n",
              "    <tr>\n",
              "      <th>3</th>\n",
              "      <td>4/20/2022 16:27:43</td>\n",
              "      <td>Male</td>\n",
              "      <td>No</td>\n",
              "      <td>Martial Arts</td>\n",
              "      <td>2-5 years</td>\n",
              "      <td>Fitness</td>\n",
              "      <td>7</td>\n",
              "      <td>I play regularly</td>\n",
              "      <td>No</td>\n",
              "      <td>No</td>\n",
              "      <td>No</td>\n",
              "      <td>I have no idea</td>\n",
              "      <td>Somewhat too little</td>\n",
              "      <td>Others</td>\n",
              "      <td>0</td>\n",
              "      <td>MS17RESCH11003@IITH.AC.IN</td>\n",
              "      <td>MS</td>\n",
              "      <td>RESCH</td>\n",
              "      <td>17</td>\n",
              "    </tr>\n",
              "    <tr>\n",
              "      <th>4</th>\n",
              "      <td>4/20/2022 18:58:59</td>\n",
              "      <td>Female</td>\n",
              "      <td>No</td>\n",
              "      <td>Swimming, Athletics (Track and Field)</td>\n",
              "      <td>&lt; 1 year</td>\n",
              "      <td>Fitness, Recreational purpose</td>\n",
              "      <td>5</td>\n",
              "      <td>I play regularly</td>\n",
              "      <td>Yes</td>\n",
              "      <td>No</td>\n",
              "      <td>No</td>\n",
              "      <td>About the right amount</td>\n",
              "      <td>About the right amount</td>\n",
              "      <td>Others</td>\n",
              "      <td>0</td>\n",
              "      <td>bo17resch01001@iith.ac.in</td>\n",
              "      <td>BO</td>\n",
              "      <td>RESCH</td>\n",
              "      <td>17</td>\n",
              "    </tr>\n",
              "  </tbody>\n",
              "</table>\n",
              "</div>\n",
              "      <button class=\"colab-df-convert\" onclick=\"convertToInteractive('df-cbb8b0d7-7a06-49ba-90cd-8500ca6d0544')\"\n",
              "              title=\"Convert this dataframe to an interactive table.\"\n",
              "              style=\"display:none;\">\n",
              "        \n",
              "  <svg xmlns=\"http://www.w3.org/2000/svg\" height=\"24px\"viewBox=\"0 0 24 24\"\n",
              "       width=\"24px\">\n",
              "    <path d=\"M0 0h24v24H0V0z\" fill=\"none\"/>\n",
              "    <path d=\"M18.56 5.44l.94 2.06.94-2.06 2.06-.94-2.06-.94-.94-2.06-.94 2.06-2.06.94zm-11 1L8.5 8.5l.94-2.06 2.06-.94-2.06-.94L8.5 2.5l-.94 2.06-2.06.94zm10 10l.94 2.06.94-2.06 2.06-.94-2.06-.94-.94-2.06-.94 2.06-2.06.94z\"/><path d=\"M17.41 7.96l-1.37-1.37c-.4-.4-.92-.59-1.43-.59-.52 0-1.04.2-1.43.59L10.3 9.45l-7.72 7.72c-.78.78-.78 2.05 0 2.83L4 21.41c.39.39.9.59 1.41.59.51 0 1.02-.2 1.41-.59l7.78-7.78 2.81-2.81c.8-.78.8-2.07 0-2.86zM5.41 20L4 18.59l7.72-7.72 1.47 1.35L5.41 20z\"/>\n",
              "  </svg>\n",
              "      </button>\n",
              "      \n",
              "  <style>\n",
              "    .colab-df-container {\n",
              "      display:flex;\n",
              "      flex-wrap:wrap;\n",
              "      gap: 12px;\n",
              "    }\n",
              "\n",
              "    .colab-df-convert {\n",
              "      background-color: #E8F0FE;\n",
              "      border: none;\n",
              "      border-radius: 50%;\n",
              "      cursor: pointer;\n",
              "      display: none;\n",
              "      fill: #1967D2;\n",
              "      height: 32px;\n",
              "      padding: 0 0 0 0;\n",
              "      width: 32px;\n",
              "    }\n",
              "\n",
              "    .colab-df-convert:hover {\n",
              "      background-color: #E2EBFA;\n",
              "      box-shadow: 0px 1px 2px rgba(60, 64, 67, 0.3), 0px 1px 3px 1px rgba(60, 64, 67, 0.15);\n",
              "      fill: #174EA6;\n",
              "    }\n",
              "\n",
              "    [theme=dark] .colab-df-convert {\n",
              "      background-color: #3B4455;\n",
              "      fill: #D2E3FC;\n",
              "    }\n",
              "\n",
              "    [theme=dark] .colab-df-convert:hover {\n",
              "      background-color: #434B5C;\n",
              "      box-shadow: 0px 1px 3px 1px rgba(0, 0, 0, 0.15);\n",
              "      filter: drop-shadow(0px 1px 2px rgba(0, 0, 0, 0.3));\n",
              "      fill: #FFFFFF;\n",
              "    }\n",
              "  </style>\n",
              "\n",
              "      <script>\n",
              "        const buttonEl =\n",
              "          document.querySelector('#df-cbb8b0d7-7a06-49ba-90cd-8500ca6d0544 button.colab-df-convert');\n",
              "        buttonEl.style.display =\n",
              "          google.colab.kernel.accessAllowed ? 'block' : 'none';\n",
              "\n",
              "        async function convertToInteractive(key) {\n",
              "          const element = document.querySelector('#df-cbb8b0d7-7a06-49ba-90cd-8500ca6d0544');\n",
              "          const dataTable =\n",
              "            await google.colab.kernel.invokeFunction('convertToInteractive',\n",
              "                                                     [key], {});\n",
              "          if (!dataTable) return;\n",
              "\n",
              "          const docLinkHtml = 'Like what you see? Visit the ' +\n",
              "            '<a target=\"_blank\" href=https://colab.research.google.com/notebooks/data_table.ipynb>data table notebook</a>'\n",
              "            + ' to learn more about interactive tables.';\n",
              "          element.innerHTML = '';\n",
              "          dataTable['output_type'] = 'display_data';\n",
              "          await google.colab.output.renderOutput(dataTable, element);\n",
              "          const docLink = document.createElement('div');\n",
              "          docLink.innerHTML = docLinkHtml;\n",
              "          element.appendChild(docLink);\n",
              "        }\n",
              "      </script>\n",
              "    </div>\n",
              "  </div>\n",
              "  "
            ]
          },
          "metadata": {},
          "execution_count": 3
        }
      ]
    },
    {
      "cell_type": "code",
      "source": [
        "t = data[data['What do you think about the number of sport events conducted on campus?']=='About the right amount']['How many days a week do you play?']"
      ],
      "metadata": {
        "id": "g2lkNuRM4QRt"
      },
      "execution_count": null,
      "outputs": []
    },
    {
      "cell_type": "code",
      "source": [
        "t.describe()"
      ],
      "metadata": {
        "colab": {
          "base_uri": "https://localhost:8080/"
        },
        "id": "R4Zjk-PN4fQF",
        "outputId": "4ab583ee-15f1-4808-a7bb-ce3644a15d48"
      },
      "execution_count": null,
      "outputs": [
        {
          "output_type": "execute_result",
          "data": {
            "text/plain": [
              "count    122.000000\n",
              "mean       3.500000\n",
              "std        2.156098\n",
              "min        0.000000\n",
              "25%        2.000000\n",
              "50%        4.000000\n",
              "75%        5.000000\n",
              "max        7.000000\n",
              "Name: How many days a week do you play?, dtype: float64"
            ]
          },
          "metadata": {},
          "execution_count": 211
        }
      ]
    },
    {
      "cell_type": "code",
      "source": [
        "t = data[data['What do you think about the number of sport events conducted on campus?']=='Somewhat too little']\n",
        "t = t[t['What are the reasons for not playing regularly?'].str.contains('Time',na=False)]['How many days a week do you play?']\n",
        "t.describe()"
      ],
      "metadata": {
        "colab": {
          "base_uri": "https://localhost:8080/"
        },
        "id": "IqOJ1Nkw4jHR",
        "outputId": "58eef793-e880-4e35-827f-e095cd534dea"
      },
      "execution_count": null,
      "outputs": [
        {
          "output_type": "execute_result",
          "data": {
            "text/plain": [
              "count    57.000000\n",
              "mean      3.087719\n",
              "std       2.055313\n",
              "min       0.000000\n",
              "25%       2.000000\n",
              "50%       3.000000\n",
              "75%       5.000000\n",
              "max       7.000000\n",
              "Name: How many days a week do you play?, dtype: float64"
            ]
          },
          "metadata": {},
          "execution_count": 217
        }
      ]
    },
    {
      "cell_type": "code",
      "source": [
        "t = data[data['What do you think about the number of sport events conducted on campus?']!='Somewhat too little']\n",
        "t = t[t['What are the reasons for not playing regularly?'].str.contains('Time',na=False)]['How many days a week do you play?']\n",
        "t.describe()"
      ],
      "metadata": {
        "colab": {
          "base_uri": "https://localhost:8080/"
        },
        "id": "UKb9uekP5yFO",
        "outputId": "5691f7f0-66b0-4bca-ea5e-153e337d20e0"
      },
      "execution_count": null,
      "outputs": [
        {
          "output_type": "execute_result",
          "data": {
            "text/plain": [
              "count    81.000000\n",
              "mean      3.074074\n",
              "std       1.787301\n",
              "min       0.000000\n",
              "25%       2.000000\n",
              "50%       3.000000\n",
              "75%       5.000000\n",
              "max       7.000000\n",
              "Name: How many days a week do you play?, dtype: float64"
            ]
          },
          "metadata": {},
          "execution_count": 218
        }
      ]
    },
    {
      "cell_type": "markdown",
      "source": [
        "# Hypothesis Testing"
      ],
      "metadata": {
        "id": "zyh9IcT6JAgG"
      }
    },
    {
      "cell_type": "markdown",
      "source": [
        "1. $μ_{NSO} - μ_{NSS} > 0$ "
      ],
      "metadata": {
        "id": "M3C8P-mIJiGA"
      }
    },
    {
      "cell_type": "code",
      "source": [
        "# Since the sample size = 228 (>30) is sufficiently large, we can use one mean t-test\n",
        "\n",
        "# Considering only BTech students \n",
        "t = data[data['Program']=='BTECH']"
      ],
      "metadata": {
        "id": "BNVRESrdJniT"
      },
      "execution_count": null,
      "outputs": []
    },
    {
      "cell_type": "code",
      "source": [
        "t['Are you in NSO?'].value_counts()"
      ],
      "metadata": {
        "colab": {
          "base_uri": "https://localhost:8080/"
        },
        "id": "lJT7fyE26-Ta",
        "outputId": "9b218c15-6765-4265-a530-4a3186272b01"
      },
      "execution_count": null,
      "outputs": [
        {
          "output_type": "execute_result",
          "data": {
            "text/plain": [
              "Yes    83\n",
              "No     81\n",
              "Name: Are you in NSO?, dtype: int64"
            ]
          },
          "metadata": {},
          "execution_count": 175
        }
      ]
    },
    {
      "cell_type": "code",
      "source": [
        "x = t[t['Are you in NSO?'] == 'Yes']['How many days a week do you play?']\n",
        "y = t[t['Are you in NSO?'] == 'No']['How many days a week do you play?']"
      ],
      "metadata": {
        "id": "Hsw4aPc1KJcD"
      },
      "execution_count": null,
      "outputs": []
    },
    {
      "cell_type": "code",
      "source": [
        "x.describe()"
      ],
      "metadata": {
        "colab": {
          "base_uri": "https://localhost:8080/"
        },
        "id": "9XehVMERKfkn",
        "outputId": "67c09157-3ade-48a0-8f6f-c73734eb93fe"
      },
      "execution_count": null,
      "outputs": [
        {
          "output_type": "execute_result",
          "data": {
            "text/plain": [
              "count    83.000000\n",
              "mean      4.048193\n",
              "std       1.937459\n",
              "min       0.000000\n",
              "25%       3.000000\n",
              "50%       4.000000\n",
              "75%       5.000000\n",
              "max       7.000000\n",
              "Name: How many days a week do you play?, dtype: float64"
            ]
          },
          "metadata": {},
          "execution_count": 177
        }
      ]
    },
    {
      "cell_type": "code",
      "source": [
        "y.describe()"
      ],
      "metadata": {
        "colab": {
          "base_uri": "https://localhost:8080/"
        },
        "id": "7cwcZuFNKxjf",
        "outputId": "483792c1-9ff2-4af5-c9c7-899a6d36e0ce"
      },
      "execution_count": null,
      "outputs": [
        {
          "output_type": "execute_result",
          "data": {
            "text/plain": [
              "count    81.000000\n",
              "mean      2.925926\n",
              "std       2.240412\n",
              "min       0.000000\n",
              "25%       1.000000\n",
              "50%       3.000000\n",
              "75%       5.000000\n",
              "max       7.000000\n",
              "Name: How many days a week do you play?, dtype: float64"
            ]
          },
          "metadata": {},
          "execution_count": 178
        }
      ]
    },
    {
      "cell_type": "code",
      "source": [
        "n1 = x.count()\n",
        "n2 = y.count()\n",
        "u1 = x.mean()\n",
        "u2 = y.mean()\n",
        "s1 = x.std()\n",
        "v1 = np.square(s1)\n",
        "s2 = y.std()\n",
        "v2 = np.square(s2)"
      ],
      "metadata": {
        "id": "vnrVdJFYLBVx"
      },
      "execution_count": null,
      "outputs": []
    },
    {
      "cell_type": "code",
      "source": [
        "d0 = 0\n",
        "alpha = 0.05\n",
        "df = n1+n2-2\n",
        "t_alpha = 1.6543 # From an online t-value calculator\n",
        "\n",
        "sp = np.sqrt(((n1-1)*v1+(n2-1)*v2)/(n1+n2-2))\n",
        "t = ((u1-u2)-d0)/(sp*np.sqrt(1/n1 + 1/n2))\n",
        "if(t>=t_alpha):\n",
        "  print('Reject H0')\n",
        "else:\n",
        "  print('There is insufficient evidence to conclude anything about the hypothesis')"
      ],
      "metadata": {
        "colab": {
          "base_uri": "https://localhost:8080/"
        },
        "id": "s4202nYCLEal",
        "outputId": "15a5cbf9-e771-4f7e-db1c-1bad8732d792"
      },
      "execution_count": null,
      "outputs": [
        {
          "output_type": "stream",
          "name": "stdout",
          "text": [
            "Reject H0\n"
          ]
        }
      ]
    },
    {
      "cell_type": "code",
      "source": [
        "t"
      ],
      "metadata": {
        "colab": {
          "base_uri": "https://localhost:8080/"
        },
        "id": "cg0pgPT-rR9Y",
        "outputId": "df85736a-e9a8-4110-b72c-663c697f4798"
      },
      "execution_count": null,
      "outputs": [
        {
          "output_type": "execute_result",
          "data": {
            "text/plain": [
              "3.4338322222921733"
            ]
          },
          "metadata": {},
          "execution_count": 182
        }
      ]
    },
    {
      "cell_type": "markdown",
      "source": [
        "2. $μ_{B} - μ_{G} > 0$ "
      ],
      "metadata": {
        "id": "8rSjczsZQwHD"
      }
    },
    {
      "cell_type": "code",
      "source": [
        "x = data[data['Gender']=='Male']['How many days a week do you play?']\n",
        "y = data[data['Gender']=='Female']['How many days a week do you play?']"
      ],
      "metadata": {
        "id": "n8_Vl8ufQvjj"
      },
      "execution_count": null,
      "outputs": []
    },
    {
      "cell_type": "code",
      "source": [
        "n1 = x.count()\n",
        "n2 = y.count()\n",
        "u1 = x.mean()\n",
        "u2 = y.mean()\n",
        "s1 = x.std()\n",
        "v1 = np.square(s1)\n",
        "s2 = y.std()\n",
        "v2 = np.square(s2)"
      ],
      "metadata": {
        "id": "7LWLetq9RGDy"
      },
      "execution_count": null,
      "outputs": []
    },
    {
      "cell_type": "code",
      "source": [
        "d0 = 0\n",
        "alpha = 0.05\n",
        "df = n1+n2-2\n",
        "t_alpha = 1.6516 # From an online t-value calculator\n",
        "\n",
        "sp = np.sqrt(((n1-1)*v1+(n2-1)*v2)/(n1+n2-2))\n",
        "ts = ((u1-u2)-d0)/(sp*np.sqrt(1/n1 + 1/n2))\n",
        "if(t>=t_alpha):\n",
        "  print('Reject H0')\n",
        "else:\n",
        "  print('There is insufficient evidence to conclude anything about the hypothesis')"
      ],
      "metadata": {
        "colab": {
          "base_uri": "https://localhost:8080/"
        },
        "id": "pqQduNW0RHa2",
        "outputId": "c86cae1e-5b94-4aab-f0a2-1c7562ad7f65"
      },
      "execution_count": null,
      "outputs": [
        {
          "output_type": "stream",
          "name": "stdout",
          "text": [
            "Reject H0\n"
          ]
        }
      ]
    },
    {
      "cell_type": "markdown",
      "source": [
        "3. $μ_{NSO} > 2$ \n",
        "\n"
      ],
      "metadata": {
        "id": "QLTrL5hWRjy4"
      }
    },
    {
      "cell_type": "code",
      "source": [
        "t = data[data['Program']=='BTECH']\n",
        "x = t[t['Are you in NSO?']=='Yes']['How many days a week do you play?']\n",
        "\n",
        "n1 = x.count()\n",
        "u1 = x.mean()\n",
        "s1 = x.std()\n",
        "v1 = np.square(s1)\n",
        "\n",
        "d0 = 2\n",
        "\n",
        "t = (u1 - d0)/(s1/np.sqrt(n1))\n",
        "t_alpha = 1.6632\n",
        "\n",
        "if(t>=t_alpha):\n",
        "  print('Reject H0')\n",
        "else:\n",
        "  print('There is insufficient evidence to conclude anything about the hypothesis')"
      ],
      "metadata": {
        "colab": {
          "base_uri": "https://localhost:8080/"
        },
        "id": "RksY8iMYR1Sy",
        "outputId": "67c541c8-963f-420d-bfe0-f5ce5214c707"
      },
      "execution_count": null,
      "outputs": [
        {
          "output_type": "stream",
          "name": "stdout",
          "text": [
            "Reject H0\n"
          ]
        }
      ]
    },
    {
      "cell_type": "markdown",
      "source": [
        "4. $σ_1^2 < σ_2^2$"
      ],
      "metadata": {
        "id": "ikrUCnAgYxAZ"
      }
    },
    {
      "cell_type": "code",
      "source": [
        "data1=data[data['Are you in NSO?']=='Yes']\n",
        "data2=data[data['Are you in NSO?']=='No']"
      ],
      "metadata": {
        "id": "5ADHkgbhZCtc"
      },
      "execution_count": 8,
      "outputs": []
    },
    {
      "cell_type": "code",
      "source": [
        "s1=data1['How many days a week do you play?'].var()\n",
        "s2=data2['How many days a week do you play?'].var()"
      ],
      "metadata": {
        "id": "s9ZdXb1lZZQA"
      },
      "execution_count": 9,
      "outputs": []
    },
    {
      "cell_type": "code",
      "source": [
        "F=s1/s2\n",
        "print(F)\n",
        "# since F(0.05,120,120)=1.25 we have F<F(alpha,df1,df2). Therefore Hypothesis can be rejected."
      ],
      "metadata": {
        "colab": {
          "base_uri": "https://localhost:8080/"
        },
        "id": "R6d3UFtEZc1M",
        "outputId": "7def9816-bc36-428d-987d-58081fa87bb3"
      },
      "execution_count": 11,
      "outputs": [
        {
          "output_type": "stream",
          "name": "stdout",
          "text": [
            "0.6803310676345594\n"
          ]
        }
      ]
    },
    {
      "cell_type": "markdown",
      "source": [
        "5. $\\pi_{1} - \\pi_{2} > 0$"
      ],
      "metadata": {
        "id": "zNXOyJahWDMO"
      }
    },
    {
      "cell_type": "code",
      "source": [
        "t1 = data[data['How long have you been playing sport?']=='> 5 years']\n",
        "a1 = t1[t1['What are the main reasons for your involvement in sports?'].str.contains('Fitness',na=False)]\n",
        "n1 = t1.shape[0]\n",
        "p1=a1.shape[0]/n1\n",
        "\n",
        "\n",
        "t2 = data[data['How long have you been playing sport?']!='> 5 years']\n",
        "a2 = t2[t2['What are the main reasons for your involvement in sports?'].str.contains('Fitness',na=False)]\n",
        "n2 = t2.shape[0]\n",
        "p2=a2.shape[0]/n2"
      ],
      "metadata": {
        "id": "vXXdj7uGVuHa"
      },
      "execution_count": 4,
      "outputs": []
    },
    {
      "cell_type": "code",
      "source": [
        "print(p1,p2)"
      ],
      "metadata": {
        "colab": {
          "base_uri": "https://localhost:8080/"
        },
        "id": "hdBUVJdaYipf",
        "outputId": "4672f230-8fa7-4297-999d-b19cbb85998a"
      },
      "execution_count": 5,
      "outputs": [
        {
          "output_type": "stream",
          "name": "stdout",
          "text": [
            "0.7684210526315789 0.6616541353383458\n"
          ]
        }
      ]
    },
    {
      "cell_type": "code",
      "source": [
        "z = (p1-p2)/np.sqrt((p1*(1-p1)/n1)+(p2*(1-p2)/n2))\n",
        "alpha = 0.05\n",
        "z_alpha = 1.645\n",
        "if(z>=z_alpha):\n",
        "  print('Reject H0')\n",
        "else:\n",
        "  print('There is insufficient evidence to conclude anything about the hypothesis')"
      ],
      "metadata": {
        "colab": {
          "base_uri": "https://localhost:8080/"
        },
        "id": "ndDJ-hXEV6Zt",
        "outputId": "9523f30b-998e-459b-9899-2d7503a41b0b"
      },
      "execution_count": 6,
      "outputs": [
        {
          "output_type": "stream",
          "name": "stdout",
          "text": [
            "Reject H0\n"
          ]
        }
      ]
    }
  ]
}